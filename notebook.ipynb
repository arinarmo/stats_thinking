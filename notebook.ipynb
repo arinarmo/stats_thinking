{
 "cells": [
  {
   "cell_type": "markdown",
   "metadata": {},
   "source": [
    "## Statistical Thinking\n",
    "\n",
    "Fundamentos:\n",
    "\n",
    "1. Tener una perspectiva de **procesos** (interconectados)\n",
    "2. Entender y reconocer la **variabilidad** en esos procesos\n",
    "3. Entender y usar las herramientas **estadísticas** apropiadamente\n",
    "\n",
    "\n",
    "![](resources/process.png)"
   ]
  },
  {
   "cell_type": "markdown",
   "metadata": {},
   "source": [
    "### Sin una vista de procesos\n",
    "* Difícil definir problemas\n",
    "* Difícil encontrar causas\n",
    "* La responsabilidad (culpa) pasa a las personas\n",
    "* Las personas no pueden definir su rol\n"
   ]
  },
  {
   "cell_type": "markdown",
   "metadata": {},
   "source": [
    "### Sin entender variabilidad\n",
    "* Lo último es lo importante\n",
    "* Mucho bomberazo\n",
    "* Tendencia al micromanejo\n",
    "* Difícil entender el proceso"
   ]
  },
  {
   "cell_type": "markdown",
   "metadata": {},
   "source": [
    "### Sin datos\n",
    "* Las opiniones cuentan, todos son expertos\n",
    "* Mala memoria histórica\n",
    "* Difícil definir éxito y fracaso\n",
    "* Difícil (o imposible) medir\n"
   ]
  },
  {
   "cell_type": "markdown",
   "metadata": {},
   "source": [
    "### Teoría Estadística y de Probabilidad\n",
    "\n",
    "Establece un marco formal para abordar los fundamentos 2 y 3. Abarca desde nociones de probabilidad (verosimilitud, chance) hasta cómo tomar decisiones basadas en observaciones (datos). \n",
    "\n",
    "Veremos, a muy grandes rasgos, algunos de los puntos más importantes de ambas teorías. \n",
    "\n"
   ]
  },
  {
   "cell_type": "markdown",
   "metadata": {},
   "source": [
    "### ¿Qué es probabilidad?\n",
    "\n",
    "Existen dos maneras \"principales\" de entender el concepto de probabilidad:\n",
    "\n",
    "**Frecuencias**\n",
    "\n",
    "Supongamos que tenemos un proceso que presenta variabilidad, y lo repetimos una gran cantidad de veces. La probabilidad de un evento (salida de este proceso) se define como la frecuencia con la que ocurre conforme repetimos el proceso.\n",
    "\n",
    "Ejemplo: Un volado. Evento: Que caiga sol.\n",
    "\n",
    "**Incertidumbre**\n",
    "\n",
    "Otra manera de ver la probabilidad es simplemente como una manera de incertidumbre subjetiva. Si nuestro proceso es irrepetible, esta es una definición más útil de probabilidad. A menudo se denomina esta definición como **Bayesiana**.\n",
    "\n",
    "Ejemplo: El día de hoy. Evento: Que llueva. Nótese que no hay manera de repetir este proceso\n",
    "\n",
    "\n",
    "En ambos casos, la probabilidad siempre es un número entre 0 y 1. Por ser este un material introductorio, sólo hablaremos de la definición **frecuentista**"
   ]
  },
  {
   "cell_type": "markdown",
   "metadata": {},
   "source": [
    "### Frecuencia relativa\n",
    "\n",
    "Para procesos repetibles, la definición frecuentista sugiere una manera directa de estimar la probabilidad de un evento. Si lanzamos una moneda $100$ veces, y en $55$ cae sol, podemos estimar directamente la probabilidad de que la moneda caiga sol como $55/100 = 0.55$.\n",
    "\n",
    "Nótese que esto difiere de la probabilidad teórica bajo una moneda justa, pero conforme lanzamos más veces, encontraremos que nuestra estimación se aerca más a la teoría\n",
    "\n",
    "\n",
    "![](resources/coin_flip.png)\n",
    "\n",
    "A esta estimación también se le llama **frecuencia relativa** (relativa al número de repeticiones de proceso)."
   ]
  },
  {
   "cell_type": "markdown",
   "metadata": {},
   "source": [
    "### Notación\n",
    "\n",
    "Si tenemos un proceso $E$ y dos eventos resultados de este proceso, $A$ y $B$. \n",
    "\n",
    "* La probabilidad de $A$ se escribe $P(A)$\n",
    "* La probabilidad de que pase $A$ ó pase $B$ (o ambos) se escribe $P(A \\cup B)$\n",
    "* La probabilidad de que pase $A$ y pase $B$ se escribe $P(A \\cap B)$\n",
    "* La probabilidad de que **no** pase $A$ se escribe $P(\\neg A)$, $P(A^c)$ o $P(A')$ (aquí usaremos $P(\\neg A)$)"
   ]
  },
  {
   "cell_type": "markdown",
   "metadata": {},
   "source": [
    "### Reglas de probabilidad\n",
    "* Dos eventos son **disjuntos** o **ajenos** si es imposible que puedan suceder juntos (ej: tener águila y sol en un volado). ($P(A \\ cap B) = 0$)\n",
    "* Es seguro que, o pasa A, o no pasa A: $P(A) + P(\\neg A) = 1$\n",
    "* De lo anterior, $P(\\neg A) = 1 - P(A)$\n",
    "* La probabilidad de que pase $A$ o $B$, es la suma de la "
   ]
  },
  {
   "cell_type": "code",
   "execution_count": null,
   "metadata": {},
   "outputs": [],
   "source": []
  }
 ],
 "metadata": {
  "kernelspec": {
   "display_name": "Python 3",
   "language": "python",
   "name": "python3"
  },
  "language_info": {
   "codemirror_mode": {
    "name": "ipython",
    "version": 3
   },
   "file_extension": ".py",
   "mimetype": "text/x-python",
   "name": "python",
   "nbconvert_exporter": "python",
   "pygments_lexer": "ipython3",
   "version": "3.5.4"
  }
 },
 "nbformat": 4,
 "nbformat_minor": 2
}
