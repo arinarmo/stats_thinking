{
 "cells": [
  {
   "cell_type": "markdown",
   "metadata": {},
   "source": [
    "## Statistical Thinking\n",
    "\n",
    "Fundamentos:\n",
    "\n",
    "1. Tener una perspectiva de **procesos** (interconectados)\n",
    "2. Entender y reconocer la **variabilidad** en esos procesos\n",
    "3. Entender y usar las herramientas **estadísticas** apropiadamente\n",
    "\n",
    "\n",
    "![](resources/process.png)"
   ]
  },
  {
   "cell_type": "markdown",
   "metadata": {},
   "source": [
    "### Sin una perspectiva de procesos\n",
    "* Difícil definir problemas\n",
    "* Difícil encontrar causas\n",
    "* La responsabilidad (culpa) pasa a las personas\n",
    "* Las personas no pueden definir su rol\n"
   ]
  },
  {
   "cell_type": "markdown",
   "metadata": {},
   "source": [
    "### Sin entender variabilidad\n",
    "* Lo último es lo importante\n",
    "* Mucho bomberazo\n",
    "* Tendencia al micromanejo\n",
    "* Difícil entender el proceso"
   ]
  },
  {
   "cell_type": "markdown",
   "metadata": {},
   "source": [
    "### Sin datos\n",
    "* Las opiniones cuentan, todos son expertos\n",
    "* Mala memoria histórica\n",
    "* Difícil definir éxito y fracaso\n",
    "* Difícil (o imposible) medir\n"
   ]
  },
  {
   "cell_type": "markdown",
   "metadata": {},
   "source": [
    "### Perspectiva de procesos\n",
    "* Definir entradas y salidas\n",
    "* El nivel de detalle depende de la importancia del proceso\n",
    "* Herramientas útiles: Diagrama de flujo, diagrama causal\n"
   ]
  },
  {
   "cell_type": "markdown",
   "metadata": {},
   "source": [
    "### Teoría Estadística y de Probabilidad\n",
    "\n",
    "Establece un marco formal para abordar los fundamentos 2 y 3. Abarca desde nociones de probabilidad (verosimilitud, chance) hasta cómo tomar decisiones basadas en observaciones (datos). Su objetivo es brindar herramientas formales para razonar ante la presencia de incertidumbre y variabilidad.\n",
    "\n",
    "Veremos, a muy grandes rasgos, algunos de los puntos más importantes de ambas teorías. \n",
    "\n"
   ]
  },
  {
   "cell_type": "markdown",
   "metadata": {},
   "source": [
    "### ¿Qué es probabilidad?\n",
    "\n",
    "\n",
    "Supongamos que tenemos un proceso que presenta variabilidad, y lo repetimos una gran cantidad de veces. La probabilidad de un evento (salida de este proceso) se define como la frecuencia con la que ocurre este evento\n",
    "\n",
    "Ejemplo: Un volado. Evento: Que caiga sol.\n",
    "\n",
    "Por ser una frecuencia, la probabilidad siempre es un número entre 0 y 1. Un evento (casi) seguro tendrá probabilidad de 1, mientras que un evento (casi) imposible, tendrá probabilidad de 0.\n",
    "\n",
    "\n",
    "****\n",
    "Otra manera de ver la probabilidad es simplemente como una manera de incertidumbre subjetiva. Si nuestro proceso es irrepetible, esta es una definición más útil de probabilidad. A menudo se denomina esta definición como **Bayesiana**."
   ]
  },
  {
   "cell_type": "markdown",
   "metadata": {},
   "source": [
    "### Frecuencia relativa\n",
    "\n",
    "Para procesos repetibles, la definición frecuentista sugiere una manera directa de estimar la probabilidad de un evento. Si lanzamos una moneda $100$ veces, y en $55$ cae sol, podemos estimar directamente la probabilidad de que la moneda caiga sol como $55/100 = 0.55$.\n",
    "\n",
    "Nótese que esto difiere de la probabilidad teórica para una moneda justa, pero conforme lanzamos más veces, encontraremos que nuestra estimación se aerca más a la teoría\n",
    "\n",
    "\n",
    "![](resources/coin_flip.png)\n",
    "\n",
    "A esta estimación también se le llama **frecuencia relativa** (relativa al número de repeticiones de proceso)."
   ]
  },
  {
   "cell_type": "markdown",
   "metadata": {},
   "source": [
    "### Notación\n",
    "\n",
    "Si tenemos un proceso $E$ y dos eventos resultados de este proceso, $A$ y $B$. \n",
    "\n",
    "* La probabilidad de $A$ se escribe $P(A)$\n",
    "* La probabilidad de que pase $A$ ó pase $B$ (o ambos) se escribe $P(A \\cup B)$\n",
    "* La probabilidad de que pase $A$ y pase $B$ se escribe $P(A \\cap B)$\n",
    "* La probabilidad de que **no** pase $A$ se escribe $P(\\neg A)$, $P(A^c)$ o $P(A')$ (aquí usaremos $P(\\neg A)$)"
   ]
  },
  {
   "cell_type": "markdown",
   "metadata": {},
   "source": [
    "### Reglas de probabilidad\n",
    "* Dos eventos son **disjuntos** o **ajenos** si es imposible que puedan suceder juntos (ej: tener águila y sol en un \n",
    "volado). ($P(A \\cap B) = 0$)\n",
    "* Es seguro que, o pasa A, o no pasa A: $P(A) + P(\\neg A) = 1$\n",
    "* De lo anterior, $P(\\neg A) = 1 - P(A)$\n",
    "* La probabilidad de que pase $A$ o $B$ (o ambos), es la suma de cada una de sus probabilidades, menos la probabilidad de que sucedan juntos $P(A \\cup B) = P(A) + P(B) - P(A \\cap B)$\n",
    "* Si dos eventos son disjuntos, tenemos que $P(A \\cup B) = P(A) + P(B)$"
   ]
  },
  {
   "cell_type": "markdown",
   "metadata": {},
   "source": [
    "### Caso contraintuitivo: Problema del cumpleaños\n",
    "\n",
    "Consideremos un grupo de personas, (digamos, 24) ¿Cuál es la probabilidad de que al menos dos personas tengan exactamente el mismo cumpleaños?\n",
    "\n",
    "* Simplifiquemos: años de 365 días, equiprobables\n",
    "* $A = $ dos personas compartan cumpleaños\n",
    "* $\\neg A = $ nadie comparte cumpleaños, sólo cumpleaños únicos\n",
    "* $P(\\neg A) = (365/365)*(364/365)* \\ldots *(342/365)$\n",
    "* $P(\\neg A) \\approx 0.46$\n",
    "* $P(A) = 1 - P(\\neg A) \\approx 0.54$ \n",
    "* Con sólo 24 personas, lo más probable es que dos personas compartan cumpleaños\n",
    "\n",
    "¿Por qué falla la intuición en este caso? ¿Qué proceso estamos considerando?\n"
   ]
  },
  {
   "cell_type": "markdown",
   "metadata": {},
   "source": [
    "### Probabilidad condicional\n",
    "\n",
    "Una de las herramientas más útiles para razonar usando probabilidades es la **probabilidad condicional**. Si tenemos dos eventos (no necesariamente resultado del mismo proceso), la probabilidad condicional $P(A | B)$ es la probabilidad de que ocurra $A$ dado que observamos $B$. En el siguiente ejemplo, ¿cual sería la probabilidad de que una persona sea hombre, dado que tiene el cabello largo? \n",
    "\n",
    "![](resources/100people.png)"
   ]
  },
  {
   "cell_type": "markdown",
   "metadata": {},
   "source": [
    "### Probabilidad condicional\n",
    "\n",
    "* Se rife por la siguiente fórmula:  $P(A | B) = P(A \\cap B)/P(B)$\n",
    "* O bien $P(A \\cap B) = P(A | B)P(B)$\n",
    "* Si $P(A | B) = P(A)$, decimos que $A$ y $B$ son **independientes**. Esto es, observar $B$ no tiene ningun efecto sobre\n",
    "la probabilidad de $A$\n",
    "* Esto implica que: $P(A \\cap B) = P(A)P(B)$ si y sólo si $A$ y $B$ son independientes"
   ]
  },
  {
   "cell_type": "markdown",
   "metadata": {},
   "source": [
    "### Caso contraintuitivo: La catafixia\n",
    "\n",
    "Supongamos que estamos en \"En familia con Chabelo\", y nos dan a escoger una de tres puertas: Sabemos que detrás de una está un comedor nuevo de Muebles Troncoso, y detrás de las otras dos, un calcetín. Escogemos una puerta, digamos, la #1. A continuación, Chabelo abre otra puerta, digamos la #3 y nos muestra el calcetín que hay dentro, y nos pregunta si deseamos cambiar de elección. ¿Qué debemos hacer?\n",
    "\n",
    "![](resources/catafixia.png)\n",
    "\n",
    "¿Por qué falla la intuición en este caso? ¿Cómo es la probabilidad condicional entre escoger una puerta y que Chabelo abra otra?."
   ]
  },
  {
   "cell_type": "markdown",
   "metadata": {},
   "source": [
    "### La regla de Bayes\n",
    "\n",
    "Utilizando la fórmula de probabilidad condicional, es trivial derivar la regla de Bayes:\n",
    "\n",
    "$ P(A | B) = P(A \\cap B)/P(B) = P(B | A)*P(A)/P(B)$\n",
    "\n",
    "Lo que nos indica esta fórmula es una manera de razonar probabilidades \"posteriores\" a partir de probabilidades \"anteriores\". e.g. relaciona la pregunta \"¿Cuál es la probabilidad de que el comedor este detrás de la puerta que escogí dado que Chabelo abrió la puerta 2?\" con la pregunta \"¿Cuál es la probabilidad de que Chabelo abra la puerta 2, dado que el comedor está detrás de la puerta que escogí?\""
   ]
  },
  {
   "cell_type": "markdown",
   "metadata": {},
   "source": [
    "### Valor esperado\n",
    "\n",
    "Consideremos el siguiente juego: Lanzamos un dado, y obtenemos el número de pesos que indica la cara del dado. Sin embargo, lanzar el dado tiene un costo.\n",
    "\n",
    "¿Cuál sería el costo máximo que deberíamos de aceptar para jugar, suponiendo que nos da lo mismo ganar o perder? En otras palabras ¿Cuánto deberíamos esperar obtener?\n",
    "\n",
    "Esta cantidad se conoce como valor esperado, y es el promedio ponderado de los resultados por la probabilidad de cada uno de ellos, en el caso del dado:\n",
    "\n",
    "$E = 1*(1/6) + 2*(1/6) + \\ldots + 6*(1/6) = 3.5$\n",
    "\n",
    "Conforme repetimos el experimento, podemos observar que lo que obtenemos en promedio se acerca más y más al valor esperado teórico. Este resultado se conoce como **ley de los grandes números** y es uno de los pilares de la teoría estadística.\n",
    "\n",
    "![](resources/expected.png)\n"
   ]
  },
  {
   "cell_type": "markdown",
   "metadata": {},
   "source": [
    "### Distribución de probabilidad\n",
    "\n",
    "**Experimento** (Proceso): Lanzar 10 volados de una moneda justa\n",
    "**Variable aleatoria** (Conjunto de eventos que se refieren a la misma cantidad): Número de soles\n",
    "\n",
    "* ¿Cuál es la probabilidad de obtener cero soles ($S = 0$)?\n",
    "* ¿$P(S = 1)$?\n",
    "* ¿Qué pasa si la moneda no es justa, y la probabilidad de obtener sol en un volado es 0.25?\n",
    "\n",
    "Para evitar la fatiga al intentar contestar este tipo de preguntas, en problemas conocidos, podemos usar distribuciones (o leyes) de probabilidad. Estas indican, para cierto tipo de variables aleatorias, como se comporta la probabilidad en casos generales\n",
    "\n",
    "\n",
    "![](resources/binom.png)\n",
    "\n"
   ]
  },
  {
   "cell_type": "markdown",
   "metadata": {},
   "source": [
    "### Distribución de probabilidad\n",
    "\n",
    "Otros ejemplos son la distribución **Poisson**, que nos ayuda a calcular la probabilidad de que sucedan eventos \"raros\" (e.g. llegada de autobuses), o la **exponencial**, que nos indica como se comporta la probabilidad de tiempos de espera (e.g. esperar un taxi)\n",
    "\n",
    "![](resources/poisson.png) ![](resources/expon.png)\n"
   ]
  },
  {
   "cell_type": "markdown",
   "metadata": {},
   "source": [
    "### ¿Qué es Estadística?\n",
    "\n",
    "Podemos pensar en la estadística como una teoría **deductiva**, complemento de la teoría de la probabilidad, que por su naturaleza es **inductiva**. Esto quiere decir que a partir de observaciones de un fenómeno variable (datos), intentaremos encontrar leyes o distribuciones de probabilidad para este fenómeno.\n",
    "\n",
    "En general, el objetivo es **describir el fenómeno** a partir de estas observaciones. Eso puede implicar calcular algunas estadísticas (resúmenes), modelarlo como una distribución (estadística parámetrica) o intentar predecir lo que sucederá en el futuro (series de tiempo, análisis predictivo).\n",
    "\n",
    "El **aprendizaje estadístico** (conocido como aprendizaje de máquina en ciencias de la computación) es una teoría que puede ser derivada de la teoría estadística."
   ]
  },
  {
   "cell_type": "markdown",
   "metadata": {},
   "source": [
    "### Estadísticas (resúmenes)\n",
    "\n",
    "**Medidas de centralidad**\n",
    "* Promedio: el promedio aritmético de observaciones de una variable aleatoria (e.g. la estatura promedio en un grupo). Como vimos, la ley de los grandes números nos permite asegurar que esta cantidad aproxima el valor esperado.\n",
    "* Mediana: en una serie de observaciones de una v.a., la mediana es aquella cantidad tal que la mitad de las observaciones están debajo de ella (y la mitad por encima).\n",
    "* Moda: la observación más común\n",
    "\n",
    "**Medidas de dispersión**\n",
    "* Varianza: la suma de las desviaciones cuadráticas de las observaciones con respecto al promedio\n",
    "* Kurtosis: una medida de la \"simetría\" de las desviaciones con respecto al promedio\n",
    "\n",
    "\n",
    "\n"
   ]
  },
  {
   "cell_type": "markdown",
   "metadata": {},
   "source": [
    "### Típico vs promedio\n",
    "\n",
    "Es importante escoger la medida de centralidad adecuada para describir el fenómeno presentado. Consideremos, por ejemplo, datos de salario. La primera línea representa la mediana, y la segunda línea el promedio.\n",
    "\n",
    "![](resources/salary_dist.png)\n",
    "\n",
    "¿Cuál resulta más descriptivo?"
   ]
  }
 ],
 "metadata": {
  "kernelspec": {
   "display_name": "Python 3",
   "language": "python",
   "name": "python3"
  },
  "language_info": {
   "codemirror_mode": {
    "name": "ipython",
    "version": 3
   },
   "file_extension": ".py",
   "mimetype": "text/x-python",
   "name": "python",
   "nbconvert_exporter": "python",
   "pygments_lexer": "ipython3",
   "version": "3.5.4"
  }
 },
 "nbformat": 4,
 "nbformat_minor": 2
}
