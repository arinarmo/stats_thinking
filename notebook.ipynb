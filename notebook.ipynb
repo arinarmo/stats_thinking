{
 "cells": [
  {
   "cell_type": "markdown",
   "metadata": {},
   "source": [
    "## Statistical Thinking\n",
    "\n",
    "Fundamentos:\n",
    "\n",
    "1. Tener una perspectiva de **procesos** (interconectados)\n",
    "2. Entender y reconocer la **variabilidad** en esos procesos\n",
    "3. Entender y usar las herramientas **estadísticas** apropiadamente\n",
    "\n",
    "\n",
    "![](resources/process.png)"
   ]
  },
  {
   "cell_type": "markdown",
   "metadata": {},
   "source": [
    "### Sin una perspectiva de procesos\n",
    "* Difícil definir problemas\n",
    "* Difícil encontrar causas\n",
    "* La responsabilidad (culpa) pasa a las personas\n",
    "* Las personas no pueden definir su rol\n"
   ]
  },
  {
   "cell_type": "markdown",
   "metadata": {},
   "source": [
    "### Sin entender variabilidad\n",
    "* Lo último es lo importante\n",
    "* Mucho bomberazo\n",
    "* Tendencia al micromanejo\n",
    "* Difícil entender el proceso"
   ]
  },
  {
   "cell_type": "markdown",
   "metadata": {},
   "source": [
    "### Sin datos\n",
    "* Las opiniones cuentan, todos son expertos\n",
    "* Mala memoria histórica\n",
    "* Difícil definir éxito y fracaso\n",
    "* Difícil (o imposible) medir\n"
   ]
  },
  {
   "cell_type": "markdown",
   "metadata": {},
   "source": [
    "### Perspectiva de procesos\n",
    "* Definir entradas y salidas\n",
    "* El nivel de detalle depende de la importancia del proceso\n",
    "* Herramientas útiles: Diagrama de flujo, diagrama causal\n"
   ]
  },
  {
   "cell_type": "markdown",
   "metadata": {},
   "source": [
    "### Teoría Estadística y de Probabilidad\n",
    "\n",
    "Establece un marco formal para abordar los fundamentos 2 y 3. Abarca desde nociones de probabilidad (verosimilitud, chance) hasta cómo tomar decisiones basadas en observaciones (datos). Su objetivo es brindar herramientas formales para razonar ante la presencia de incertidumbre y variabilidad.\n",
    "\n",
    "Veremos, a muy grandes rasgos, algunos de los puntos más importantes de ambas teorías. \n",
    "\n"
   ]
  },
  {
   "cell_type": "markdown",
   "metadata": {},
   "source": [
    "### ¿Qué es probabilidad?\n",
    "\n",
    "\n",
    "Supongamos que tenemos un proceso que presenta variabilidad, y lo repetimos una gran cantidad de veces. La probabilidad de un evento (salida de este proceso) se define como la frecuencia con la que ocurre este evento\n",
    "\n",
    "Ejemplo: Un volado. Evento: Que caiga sol.\n",
    "\n",
    "Por ser una frecuencia, la probabilidad siempre es un número entre 0 y 1. Un evento (casi) seguro tendrá probabilidad de 1, mientras que un evento (casi) imposible, tendrá probabilidad de 0.\n",
    "\n",
    "\n",
    "****\n",
    "Otra manera de ver la probabilidad es simplemente como una manera de incertidumbre subjetiva. Si nuestro proceso es irrepetible, esta es una definición más útil de probabilidad. A menudo se denomina esta definición como **Bayesiana**."
   ]
  },
  {
   "cell_type": "markdown",
   "metadata": {},
   "source": [
    "### Frecuencia relativa\n",
    "\n",
    "Para procesos repetibles, la definición frecuentista sugiere una manera directa de estimar la probabilidad de un evento. Si lanzamos una moneda $100$ veces, y en $55$ cae sol, podemos estimar directamente la probabilidad de que la moneda caiga sol como $55/100 = 0.55$.\n",
    "\n",
    "Nótese que esto difiere de la probabilidad teórica para una moneda justa, pero conforme lanzamos más veces, encontraremos que nuestra estimación se aerca más a la teoría\n",
    "\n",
    "\n",
    "![](resources/coin_flip.png)\n",
    "\n",
    "A esta estimación también se le llama **frecuencia relativa** (relativa al número de repeticiones de proceso)."
   ]
  },
  {
   "cell_type": "markdown",
   "metadata": {},
   "source": [
    "### Notación\n",
    "\n",
    "Si tenemos un proceso $E$ y dos eventos resultados de este proceso, $A$ y $B$. \n",
    "\n",
    "* La probabilidad de $A$ se escribe $P(A)$\n",
    "* La probabilidad de que pase $A$ ó pase $B$ (o ambos) se escribe $P(A \\cup B)$\n",
    "* La probabilidad de que pase $A$ y pase $B$ se escribe $P(A \\cap B)$\n",
    "* La probabilidad de que **no** pase $A$ se escribe $P(\\neg A)$, $P(A^c)$ o $P(A')$ (aquí usaremos $P(\\neg A)$)"
   ]
  },
  {
   "cell_type": "markdown",
   "metadata": {},
   "source": [
    "### Reglas de probabilidad\n",
    "* Dos eventos son **disjuntos** o **ajenos** si es imposible que puedan suceder juntos (ej: tener águila y sol en un \n",
    "volado). ($P(A \\cap B) = 0$)\n",
    "* Es seguro que, o pasa A, o no pasa A: $P(A) + P(\\neg A) = 1$\n",
    "* De lo anterior, $P(\\neg A) = 1 - P(A)$\n",
    "* La probabilidad de que pase $A$ o $B$ (o ambos), es la suma de cada una de sus probabilidades, menos la probabilidad de que sucedan juntos $P(A \\cup B) = P(A) + P(B) - P(A \\cap B)$\n",
    "* Si dos eventos son disjuntos, tenemos que $P(A \\cup B) = P(A) + P(B)$"
   ]
  },
  {
   "cell_type": "markdown",
   "metadata": {},
   "source": [
    "### Probabilidad condicional\n",
    "\n",
    "Una de las herramientas más útiles para razonar usando probabilidades es la **probabilidad condicional**. Si tenemos dos eventos (no necesariamente resultado del mismo proceso), la probabilidad condicional $P(A | B)$ es la probabilidad de que ocurra $A$ dado que observamos $B$. En el siguiente ejemplo, ¿cual sería la probabilidad de que una persona sea hombre, dado que tiene el cabello largo? \n",
    "\n",
    "![](resources/100people.png)"
   ]
  },
  {
   "cell_type": "markdown",
   "metadata": {},
   "source": [
    "### Probabilidad condicional\n",
    "\n",
    "* Se rife por la siguiente fórmula:  $P(A | B) = P(A \\cap B)/P(B)$\n",
    "* O bien $P(A \\cap B) = P(A | B)P(B)$\n",
    "* Si $P(A | B) = P(A)$, decimos que $A$ y $B$ son **independientes**. Esto es, observar $B$ no tiene ningun efecto sobre\n",
    "la probabilidad de $A$\n",
    "* Esto implica que: $P(A \\cap B) = P(A)P(B)$ si y sólo si $A$ y $B$ son independientes"
   ]
  },
  {
   "cell_type": "markdown",
   "metadata": {},
   "source": [
    "### Distribución de probabilidad (Ejemplo)\n",
    "\n",
    "Proceso/experimento: 3 volados consecutivos\n",
    "Evento: número de soles $S$\n",
    "\n",
    "Consideremos la tercia de volados y las posibles configuraciones que existen\n",
    "\n",
    "* ¿Cuántas posibles configuraciones existen?\n",
    "* De estas, ¿Cuántas tienen $S=0$?\n",
    "* ¿$S = 1$?\n",
    "* ¿Qué pasa si la moneda no es justa, y la probabilidad de obtener sol en un volado es de 0.9?"
   ]
  },
  {
   "cell_type": "markdown",
   "metadata": {},
   "source": [
    "### Distribución de probabilidad\n",
    "\n",
    "Calcular estas probabilidades, u otras similares, basándonos en sólo las reglas que conocemos ahora puede ser un proceso engorroso. Afortunadamente también es innecesario, ya que muchos de estos problemas son conocidos y sus probabilidades han sido calculadas para casos generales. El problema del número de soles en una serie de volados, o de manera más general, el número de éxitos en una serie de experimentos, está descrito por la distribución de probabilidad binomial\n",
    "\n"
   ]
  },
  {
   "cell_type": "markdown",
   "metadata": {},
   "source": [
    "### Algunas distribuciones"
   ]
  },
  {
   "cell_type": "markdown",
   "metadata": {},
   "source": [
    "### Valor esperado"
   ]
  },
  {
   "cell_type": "markdown",
   "metadata": {},
   "source": [
    "### Varianza"
   ]
  },
  {
   "cell_type": "markdown",
   "metadata": {},
   "source": [
    "### Ley de los grandes números"
   ]
  },
  {
   "cell_type": "markdown",
   "metadata": {},
   "source": [
    "### La distribución normal y el TCL"
   ]
  },
  {
   "cell_type": "markdown",
   "metadata": {},
   "source": [
    "### ¿Qué es Estadística?"
   ]
  },
  {
   "cell_type": "markdown",
   "metadata": {},
   "source": [
    "### Describir un fenómeno"
   ]
  },
  {
   "cell_type": "markdown",
   "metadata": {},
   "source": [
    "### Colas largas"
   ]
  },
  {
   "cell_type": "markdown",
   "metadata": {},
   "source": [
    "### Típico vs promedio"
   ]
  },
  {
   "cell_type": "markdown",
   "metadata": {},
   "source": [
    "### Significancia estadística"
   ]
  },
  {
   "cell_type": "markdown",
   "metadata": {},
   "source": [
    "### Series de tiempo"
   ]
  },
  {
   "cell_type": "markdown",
   "metadata": {},
   "source": [
    "### Tendencia y estacionalidad"
   ]
  },
  {
   "cell_type": "markdown",
   "metadata": {},
   "source": [
    "### ¿Cómo comparar?"
   ]
  },
  {
   "cell_type": "code",
   "execution_count": null,
   "metadata": {},
   "outputs": [],
   "source": []
  }
 ],
 "metadata": {
  "kernelspec": {
   "display_name": "Python 3",
   "language": "python",
   "name": "python3"
  },
  "language_info": {
   "codemirror_mode": {
    "name": "ipython",
    "version": 3
   },
   "file_extension": ".py",
   "mimetype": "text/x-python",
   "name": "python",
   "nbconvert_exporter": "python",
   "pygments_lexer": "ipython3",
   "version": "3.6.5"
  }
 },
 "nbformat": 4,
 "nbformat_minor": 2
}
